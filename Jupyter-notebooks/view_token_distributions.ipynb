{
 "cells": [
  {
   "cell_type": "markdown",
   "metadata": {},
   "source": [
    "https://github.com/czhuang/JSB-Chorales-dataset/tree/master"
   ]
  },
  {
   "cell_type": "markdown",
   "metadata": {},
   "source": [
    "view token distributions in LAKH and new data"
   ]
  },
  {
   "cell_type": "code",
   "execution_count": 95,
   "metadata": {},
   "outputs": [],
   "source": [
    "import pickle\n",
    "import numpy as np\n",
    "import matplotlib.pyplot as plt\n",
    "import seaborn as sns\n",
    "import os"
   ]
  },
  {
   "cell_type": "markdown",
   "metadata": {},
   "source": [
    "load lakh data"
   ]
  },
  {
   "cell_type": "code",
   "execution_count": 96,
   "metadata": {},
   "outputs": [],
   "source": [
    "with open('/ix/djishnu/Aaron/2_misc/PGM_Project/content_tokenizing/lakh_tokenized/tokenized_midi5000.pickle', 'rb') as f:\n",
    "    lakh_data = pickle.load(f)"
   ]
  },
  {
   "cell_type": "markdown",
   "metadata": {},
   "source": [
    "load new data"
   ]
  },
  {
   "cell_type": "code",
   "execution_count": 97,
   "metadata": {},
   "outputs": [],
   "source": [
    "with open('/ix/djishnu/Aaron/2_misc/PGM_Project/content_tokenizing/clean_midi/tokenized_midi5000.pickle', 'rb') as f:\n",
    "    new_data = pickle.load(f)"
   ]
  },
  {
   "cell_type": "markdown",
   "metadata": {},
   "source": [
    "## name overlaps"
   ]
  },
  {
   "cell_type": "markdown",
   "metadata": {},
   "source": [
    "look at overlap betweek lakh copyrights and new data"
   ]
  },
  {
   "cell_type": "code",
   "execution_count": 98,
   "metadata": {},
   "outputs": [],
   "source": [
    "new_data_artist_names = os.listdir('/ix/djishnu/Aaron/2_misc/PGM_Project/content/clean_midi')"
   ]
  },
  {
   "cell_type": "markdown",
   "metadata": {},
   "source": [
    "lakh copyrights"
   ]
  },
  {
   "cell_type": "code",
   "execution_count": 99,
   "metadata": {},
   "outputs": [
    {
     "name": "stdout",
     "output_type": "stream",
     "text": [
      "{'Deftones', 'James Taylor', 'Asia', 'America', 'Hanson', 'Alexandra', 'Alan Parsons', 'LEN', 'Burt Bacharach', 'Daniel', 'Amber', 'William Orbit', 'Chip Davis', 'Rod Stewart', 'Erasure', 'The Cure', 'mid', 'Chic', 'Cake', 'Todd Rundgren', 'Sailor Moon', 'Garbage', 'Phil Collins', 'The Beatles', 'Rammstein', 'Barry White', 'Wagner', 'Gino Paoli', 'Pantera', 'Opus', 'Battisti', 'Carpenters', 'Keith', 'Carl Perkins', 'Tal Bachman', 'Pooh', 'Neil Diamond', 'David Bowie', 'Fastball', 'Yanni', 'Toto', 'Burton Lane', 'Van Halen', 'Yes', 'Lit', 'Elliot', 'Jeff', 'Vega', 'Cher', 'Twila Paris', 'Shania Twain', 'James', 'Antoine', 'Elton John', 'Free', 'Santo', 'Ray Charles', 'Warren', '883', 'U2', 'Focus', 'Paul Simon', 'John Denver', 'Tori Amos', 'Roy Orbison', 'Fabi', 'Band', 'Camel', 'Trio', 'Them', 'Chris de Burgh', 'Donovan', 'Spirit', 'Duke', 'Devo', 'M', 'Carpenter', 'Megadeth', 'Sailor', 'Bonnie Tyler', 'Adriano Celentano', 'Sonia', 'Bob Dylan', 'Kraftwerk', 'Lulu', 'Interactive', 'Zero', 'Ron', 'Robinson', 'Rea', 'Watanabe', 'Eagles', 'Sting', 'Seal', 'Johnson', 'War', 'Leon Russell', 'Sparks', 'Marillion', 'Dee', 'Bruno', 'Aqua', 'Berlin', 'Alice', 'Procol Harum', 'Gallery', 'Oliver', 'Reeves', 'Revere', 'Eiffel 65', 'Nena', 'Glover', 'Mariah Carey', 'Korn', 'Knight', 'Ace', 'Europe', 'Anx', 'Donna Summer', 'Gershwin', 'Jones', 'Sergio', 'Stevie Wonder', 'Enigma', 'Bon Jovi', 'Faith', 'Elvis', 'Kelly R', 'Lewis', 'Queensryche', 'Bell', 'Ross', 'Godsmack', 'Rick', 'Christina Aguilera', 'Bros', 'Omar', 'Beck', 'Green Day', 'John Lennon', 'Creation', 'Champs', 'Paoli', 'Barbra Streisand', 'Gala', 'Jan Hammer', 'Chuck Berry', 'Bloodhound Gang', 'Herman', 'Black', 'Joe', 'Red', 'Prince', 'Duval'}\n"
     ]
    }
   ],
   "source": [
    "# Function to find and return the matched name in the line\n",
    "def find_matched_name(line, name_list):\n",
    "    for name in name_list:\n",
    "        if name in line:\n",
    "            return name\n",
    "    return None\n",
    "\n",
    "# Alternatively, you can store the matched names in a list\n",
    "matched_names = []\n",
    "with open('/ix/djishnu/Aaron/2_misc/PGM_Project/content/lakh_data/lakh_artists.txt', 'r') as file:\n",
    "    for line in file:\n",
    "        matched_name = find_matched_name(line, new_data_artist_names)\n",
    "        if matched_name:\n",
    "            matched_names.append(matched_name)\n",
    "\n",
    "# Now you have a list of matched names\n",
    "print(set(matched_names))\n"
   ]
  },
  {
   "cell_type": "code",
   "execution_count": 100,
   "metadata": {},
   "outputs": [],
   "source": [
    "matches_length2 = set([x for x in matched_names if len(x.split()) > 1])"
   ]
  },
  {
   "cell_type": "code",
   "execution_count": 101,
   "metadata": {},
   "outputs": [
    {
     "data": {
      "text/plain": [
       "46"
      ]
     },
     "execution_count": 101,
     "metadata": {},
     "output_type": "execute_result"
    }
   ],
   "source": [
    "len(matches_length2)"
   ]
  },
  {
   "cell_type": "code",
   "execution_count": 102,
   "metadata": {},
   "outputs": [
    {
     "data": {
      "text/plain": [
       "2200"
      ]
     },
     "execution_count": 102,
     "metadata": {},
     "output_type": "execute_result"
    }
   ],
   "source": [
    "len(new_data_artist_names)"
   ]
  },
  {
   "cell_type": "markdown",
   "metadata": {},
   "source": [
    "## token distributions"
   ]
  },
  {
   "cell_type": "code",
   "execution_count": 125,
   "metadata": {},
   "outputs": [],
   "source": [
    "import itertools\n",
    "import pandas as pd"
   ]
  },
  {
   "cell_type": "code",
   "execution_count": 126,
   "metadata": {},
   "outputs": [
    {
     "data": {
      "text/plain": [
       "104306250"
      ]
     },
     "execution_count": 126,
     "metadata": {},
     "output_type": "execute_result"
    }
   ],
   "source": [
    "lakh_data_token_flat = np.array(list(itertools.chain.from_iterable(lakh_data)))\n",
    "len(lakh_data_token_flat)"
   ]
  },
  {
   "cell_type": "code",
   "execution_count": 127,
   "metadata": {},
   "outputs": [
    {
     "data": {
      "text/plain": [
       "149311255"
      ]
     },
     "execution_count": 127,
     "metadata": {},
     "output_type": "execute_result"
    }
   ],
   "source": [
    "new_data_token_flat = np.array(list(itertools.chain.from_iterable(new_data)))\n",
    "len(new_data_token_flat)"
   ]
  },
  {
   "cell_type": "code",
   "execution_count": 128,
   "metadata": {},
   "outputs": [],
   "source": [
    "lakh_unique_elements, counts = np.unique(lakh_data_token_flat, return_counts=True)\n",
    "lakh_data_frequency_table = dict(zip(lakh_unique_elements, counts/len(lakh_data_token_flat)))"
   ]
  },
  {
   "cell_type": "code",
   "execution_count": 147,
   "metadata": {},
   "outputs": [],
   "source": [
    "new_data_freq_df = pd.DataFrame.from_dict(new_data_frequency_table, orient='index')"
   ]
  },
  {
   "cell_type": "code",
   "execution_count": 138,
   "metadata": {},
   "outputs": [],
   "source": [
    "lakh_data_freq_df = pd.DataFrame.from_dict(lakh_data_frequency_table, orient='index')"
   ]
  },
  {
   "cell_type": "code",
   "execution_count": 148,
   "metadata": {},
   "outputs": [],
   "source": [
    "lakh_data_freq_df['x'] = lakh_data_freq_df.index.to_list()\n",
    "new_data_freq_df['x'] = new_data_freq_df.index.to_list()\n",
    "\n",
    "lakh_data_freq_df['data source'] = 'LAKH'\n",
    "new_data_freq_df['data source'] = 'Contemporary'\n",
    "\n",
    "\n",
    "freq_df = pd.concat([lakh_data_freq_df, new_data_freq_df], axis = 0)"
   ]
  },
  {
   "cell_type": "markdown",
   "metadata": {},
   "source": [
    "repair freq in case we are missing any token #s"
   ]
  },
  {
   "cell_type": "code",
   "execution_count": 140,
   "metadata": {},
   "outputs": [],
   "source": [
    "# f_idx = [x for x in list(set(freq_df['x'])) if x in np.linspace(0, 1564)]\n",
    "all_toks_list = [x for x in range(1564)]"
   ]
  },
  {
   "cell_type": "code",
   "execution_count": 149,
   "metadata": {},
   "outputs": [],
   "source": [
    "missing_toks_lakh = np.setdiff1d(all_toks_list, lakh_data_freq_df['x'])\n",
    "missing_toks_new = np.setdiff1d(all_toks_list, new_data_freq_df['x'])"
   ]
  },
  {
   "cell_type": "code",
   "execution_count": 150,
   "metadata": {},
   "outputs": [],
   "source": [
    "lakh_df_add = pd.DataFrame({'x': missing_toks_lakh, 'data source': ['LAKH' for x in missing_toks_lakh], \n",
    "                           0: [0.0 for x in missing_toks_lakh], 'count': [0 for x in missing_toks_lakh]})\n",
    "\n",
    "\n",
    "new_df_add = pd.DataFrame({'x': missing_toks_new, 'data source': ['Contemporary' for x in missing_toks_new], \n",
    "                           0: [0.0 for x in missing_toks_new], 'count': [0 for x in missing_toks_new]})\n",
    "\n",
    "\n",
    "missing_tok_df = pd.concat([lakh_df_add, new_df_add], axis = 0)"
   ]
  },
  {
   "cell_type": "code",
   "execution_count": 151,
   "metadata": {},
   "outputs": [],
   "source": [
    "lakh_df_final = pd.concat([lakh_data_freq_df, lakh_df_add], axis = 0)\n",
    "new_df_final = pd.concat([new_data_freq_df, new_df_add], axis = 0)"
   ]
  },
  {
   "cell_type": "code",
   "execution_count": 122,
   "metadata": {},
   "outputs": [],
   "source": [
    "from matplotlib.ticker import MaxNLocator\n"
   ]
  },
  {
   "cell_type": "code",
   "execution_count": 152,
   "metadata": {},
   "outputs": [
    {
     "data": {
      "image/png": "[encoded data removed]",
      "text/plain": [
       "<Figure size 800x400 with 2 Axes>"
      ]
     },
     "metadata": {},
     "output_type": "display_data"
    }
   ],
   "source": [
    "\n",
    "fig,axs = plt.subplots(2,1, figsize = (8, 4), sharex=True)\n",
    "\n",
    "sns.barplot(lakh_df_final, x = 'x', y= lakh_df_final[0]*100,  hue = 'data source', ax = axs[0])\n",
    "axs[0].set_title('Lakh Dataset')\n",
    "axs[0].set_ylim(0, 2.5)\n",
    "axs[0].set_ylabel('Token Frequency')\n",
    "axs[0].set_xlabel('Token ID')\n",
    "axs[0].xaxis.set_major_locator(MaxNLocator(nbins=10))\n",
    "sns.barplot(new_df_final, x = 'x', y=new_df_final[0]*100,hue = 'data source', ax = axs[1])\n",
    "axs[1].set_title('New Dataset')\n",
    "axs[1].set_ylim(0,2.5)\n",
    "axs[1].set_ylabel('Token Frequency')\n",
    "axs[1].xaxis.set_major_locator(MaxNLocator(nbins=10))\n",
    "axs[1].set_xlabel('Token ID')\n",
    "\n",
    "plt.tight_layout()\n",
    "plt.show()"
   ]
  }
 ],
 "metadata": {
  "kernelspec": {
   "display_name": "gpu_midi_transformer_env",
   "language": "python",
   "name": "python3"
  },
  "language_info": {
   "codemirror_mode": {
    "name": "ipython",
    "version": 3
   },
   "file_extension": ".py",
   "mimetype": "text/x-python",
   "name": "python",
   "nbconvert_exporter": "python",
   "pygments_lexer": "ipython3",
   "version": "3.8.0"
  },
  "orig_nbformat": 4
 },
 "nbformat": 4,
 "nbformat_minor": 2
}
